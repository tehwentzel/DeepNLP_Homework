{
 "cells": [
  {
   "cell_type": "code",
   "execution_count": 57,
   "metadata": {},
   "outputs": [],
   "source": [
    "import tensorflow as tf\n",
    "import numpy as np\n",
    "import pandas as pd\n",
    "import matplotlib.pyplot as plt\n",
    "from multiprocessing.pool import Pool\n",
    "import re\n",
    "positive_file = 'rt-polarity.pos'\n",
    "negative_file = 'rt-polarity.neg'\n",
    "data_root = 'stanfordSentimentTreebank/'\n",
    "glove_pattern = 'glove.6B.<size>d.txt'"
   ]
  },
  {
   "cell_type": "code",
   "execution_count": 60,
   "metadata": {},
   "outputs": [],
   "source": [
    "def get_glove(size = 50):\n",
    "    file = re.sub('<size>', str(size), glove_pattern)\n",
    "    glove = pd.read_csv(file, sep = \" \", header = None, index_col = 0, quoting = 3)\n",
    "    glove = {key: val.values for key, val in glove.T.items()}\n",
    "    return glove\n",
    "glove = get_glove()"
   ]
  },
  {
   "cell_type": "code",
   "execution_count": 62,
   "metadata": {},
   "outputs": [],
   "source": [
    "glove_words = set(glove.keys())"
   ]
  },
  {
   "cell_type": "code",
   "execution_count": 55,
   "metadata": {},
   "outputs": [
    {
     "name": "stdout",
     "output_type": "stream",
     "text": [
      "['sentence', 'index', 'sentence']\n",
      "['1', 'the', 'rock', 'is', 'destined', 'to', 'be', 'the', '21st', 'century', \"'s\", 'new', 'conan', \"''\", 'and', 'that', 'he', \"'s\", 'going', 'to', 'make', 'a', 'splash', 'even', 'greater', 'than', 'arnold', 'schwarzenegger', 'jean', 'claud', 'van', 'damme', 'or', 'steven', 'segal']\n",
      "['2', 'the', 'gorgeously', 'elaborate', 'continuation', 'of', 'the', 'lord', 'of', 'the', 'rings', \"''\", 'trilogy', 'is', 'so', 'huge', 'that', 'a', 'column', 'of', 'words', 'can', 'not', 'adequately', 'describe', 'co', 'writer', 'director', 'peter', 'jackson', \"'s\", 'expanded', 'vision', 'of', 'j', 'r', 'r', 'tolkien', \"'s\", 'middle', 'earth']\n",
      "['3', 'effective', 'but', 'too', 'tepid', 'biopic']\n",
      "['4', 'if', 'you', 'sometimes', 'like', 'to', 'go', 'to', 'the', 'movies', 'to', 'have', 'fun', 'wasabi', 'is', 'a', 'good', 'place', 'to', 'start']\n",
      "['5', 'emerges', 'as', 'something', 'rare', 'an', 'issue', 'movie', 'that', \"'s\", 'so', 'honest', 'and', 'keenly', 'observed', 'that', 'it', 'does', \"n't\", 'feel', 'like', 'one']\n",
      "['6', 'the', 'film', 'provides', 'some', 'great', 'insight', 'into', 'the', 'neurotic', 'mindset', 'of', 'all', 'comics', 'even', 'those', 'who', 'have', 'reached', 'the', 'absolute', 'top', 'of', 'the', 'game']\n",
      "['7', 'offers', 'that', 'rare', 'combination', 'of', 'entertainment', 'and', 'education']\n",
      "['8', 'perhaps', 'no', 'picture', 'ever', 'made', 'has', 'more', 'literally', 'showed', 'that', 'the', 'road', 'to', 'hell', 'is', 'paved', 'with', 'good', 'intentions']\n",
      "['9', 'steers', 'turns', 'in', 'a', 'snappy', 'screenplay', 'that', 'curls', 'at', 'the', 'edges', 'it', \"'s\", 'so', 'clever', 'you', 'want', 'to', 'hate', 'it']\n",
      "['10', 'but', 'he', 'somehow', 'pulls', 'it', 'off']\n"
     ]
    }
   ],
   "source": [
    "sentence_dict = {}\n",
    "vocab = set([])\n",
    "ttws = tf.keras.preprocessing.text.text_to_word_sequence\n",
    "with open(data_root + 'datasetSentences.txt') as data:\n",
    "    lines = data.readlines()\n",
    "    first = True\n",
    "    for line in lines:\n",
    "        if first:\n",
    "            first = False\n",
    "            continue\n",
    "        tokens = ttws(line)\n",
    "        try:\n",
    "            idx = tokens.pop(0)\n",
    "            \n",
    "        lim += 1\n",
    "        if lim > 10:\n",
    "            break"
   ]
  },
  {
   "cell_type": "code",
   "execution_count": 63,
   "metadata": {},
   "outputs": [
    {
     "data": {
      "text/plain": [
       "0"
      ]
     },
     "execution_count": 63,
     "metadata": {},
     "output_type": "execute_result"
    }
   ],
   "source": [
    "x = [0,1,1,23,3]\n",
    "x.pop(0)"
   ]
  },
  {
   "cell_type": "code",
   "execution_count": 64,
   "metadata": {},
   "outputs": [
    {
     "data": {
      "text/plain": [
       "[1, 1, 23, 3]"
      ]
     },
     "execution_count": 64,
     "metadata": {},
     "output_type": "execute_result"
    }
   ],
   "source": [
    "x"
   ]
  },
  {
   "cell_type": "code",
   "execution_count": 52,
   "metadata": {},
   "outputs": [
    {
     "data": {
      "text/plain": [
       "array([ 0.13426188, -0.56361985,  0.32195488,  0.11725293,  0.3393347 ,\n",
       "       -0.31241295,  0.44987684, -0.22493903,  0.36934644,  0.50523955,\n",
       "        0.10486971, -0.33655983, -0.56142926,  0.34979793,  0.10301422,\n",
       "        0.2026846 ,  0.36191243,  0.5586596 ,  0.8336534 ,  0.5481203 ,\n",
       "        0.420142  ,  0.5527857 , -0.5410098 , -0.23286176,  0.7467346 ,\n",
       "       -0.93865055,  0.55383164, -0.67054266,  0.4077901 ,  0.4391646 ,\n",
       "        0.37475398,  0.5073329 , -0.25291252, -0.55292714, -0.07593767,\n",
       "        0.32461494, -0.8306799 ,  0.08478513, -0.16767861, -0.6105417 ,\n",
       "       -0.04402849,  0.62714684,  0.13303672,  0.2342712 , -0.5111181 ,\n",
       "       -0.80780894, -0.9488481 ,  0.20399643,  0.40686616,  0.34480593,\n",
       "       -0.20055702, -0.07647365,  0.11458617,  0.21996137, -0.34841064,\n",
       "        0.6981789 ,  0.7910905 , -0.05794046, -0.49697298, -0.170719  ,\n",
       "        0.7831816 ,  0.27283636,  0.23275974, -0.6248634 ,  0.52773106,\n",
       "        0.6051587 , -0.05934991, -0.53924316,  0.0199111 ,  0.3966165 ,\n",
       "       -0.1692588 ,  0.02833102,  0.31228152, -0.05579498,  0.28768876,\n",
       "        0.52887625,  0.3478307 , -0.32366166,  0.13747557,  0.03034244,\n",
       "        0.45522863, -0.7547825 , -0.58390594,  0.10498502,  0.39625296,\n",
       "       -0.5269406 , -0.6054761 ,  1.1291995 , -0.48823315,  0.10818212,\n",
       "        0.21176115,  0.27886906, -0.5206086 , -0.06879447,  0.3025938 ,\n",
       "        0.15555497,  0.4110302 ,  0.11997259, -0.04094663, -0.40699497],\n",
       "      dtype=float32)"
      ]
     },
     "execution_count": 52,
     "metadata": {},
     "output_type": "execute_result"
    }
   ],
   "source": [
    "model.wv['of']"
   ]
  },
  {
   "cell_type": "code",
   "execution_count": null,
   "metadata": {},
   "outputs": [],
   "source": []
  }
 ],
 "metadata": {
  "kernelspec": {
   "display_name": "Python 3",
   "language": "python",
   "name": "python3"
  },
  "language_info": {
   "codemirror_mode": {
    "name": "ipython",
    "version": 3
   },
   "file_extension": ".py",
   "mimetype": "text/x-python",
   "name": "python",
   "nbconvert_exporter": "python",
   "pygments_lexer": "ipython3",
   "version": "3.7.3"
  }
 },
 "nbformat": 4,
 "nbformat_minor": 2
}
