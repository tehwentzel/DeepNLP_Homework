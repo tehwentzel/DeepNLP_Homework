{
 "cells": [
  {
   "cell_type": "code",
   "execution_count": 25,
   "metadata": {},
   "outputs": [],
   "source": [
    "import tensorflow as tf\n",
    "import numpy as np\n",
    "import pandas as pd\n",
    "import matplotlib.pyplot as plt\n",
    "from multiprocessing.pool import Pool\n",
    "import re\n",
    "positive_file = 'data/rt-polarity.pos'\n",
    "negative_file = 'data/rt-polarity.neg'\n",
    "data_root = 'data/stanfordSentimentTreebank/'\n",
    "glove_pattern = 'data/glove.6B.<size>d.txt'\n",
    "glove_size = 50"
   ]
  },
  {
   "cell_type": "code",
   "execution_count": 23,
   "metadata": {},
   "outputs": [],
   "source": [
    "def get_glove(size = 50):\n",
    "    file = re.sub('<size>', str(size), glove_pattern)\n",
    "    glove = pd.read_csv(file, sep = \" \", header = None, index_col = 0, quoting = 3)\n",
    "    glove = {key: val.values for key, val in glove.T.items()}\n",
    "    return glove"
   ]
  },
  {
   "cell_type": "code",
   "execution_count": 10,
   "metadata": {},
   "outputs": [],
   "source": [
    "glove = get_glove(glove_size)\n",
    "glove_words = set(glove.keys())"
   ]
  },
  {
   "cell_type": "code",
   "execution_count": 117,
   "metadata": {},
   "outputs": [],
   "source": [
    "def preprocess_sentence(line):\n",
    "    line = re.sub(r'[^\\x00-\\x7F]+', '', line.strip())\n",
    "    return line.strip().lower()\n",
    "    \n",
    "def get_labelset(file):\n",
    "    with open(file) as f:\n",
    "        sentences = set([preprocess_sentence(line) for line in f.readlines()])\n",
    "    return sentences"
   ]
  },
  {
   "cell_type": "code",
   "execution_count": 118,
   "metadata": {},
   "outputs": [],
   "source": [
    "positive_labelset = get_labelset(positive_file)\n",
    "negative_labelset = get_labelset(negative_file)"
   ]
  },
  {
   "cell_type": "code",
   "execution_count": 119,
   "metadata": {},
   "outputs": [
    {
     "name": "stdout",
     "output_type": "stream",
     "text": [
      "6791  skipped\n",
      "5063  kept\n"
     ]
    }
   ],
   "source": [
    "sentences = {}\n",
    "word2ind = {}\n",
    "ttws = tf.keras.preprocessing.text.text_to_word_sequence\n",
    "n_skipped = 0\n",
    "idx = 0\n",
    "with open(data_root + 'datasetSentences.txt') as data:\n",
    "    lines = data.readlines()\n",
    "    for line in lines:\n",
    "        index = re.search('^\\d+', line)\n",
    "        if index is None:\n",
    "            continue\n",
    "        entry = {'position': index.group()}\n",
    "        line = preprocess_sentence(line)\n",
    "        line = re.sub(r'^\\d+\\s+', '', line)\n",
    "        if line in positive_labelset:\n",
    "            entry['y'] = 1\n",
    "        elif line in negative_labelset:\n",
    "            entry['y'] = 0\n",
    "        else:\n",
    "            n_skipped += 1\n",
    "            continue\n",
    "        sentences[line] = entry\n",
    "        tokens = ttws(line)\n",
    "        for token in tokens:\n",
    "            if token not in word2ind:\n",
    "                word2ind[token] = idx\n",
    "                idx = idx + 1\n",
    "            \n",
    "print(n_skipped, ' skipped')\n",
    "print(len(sentences), ' kept')"
   ]
  },
  {
   "cell_type": "code",
   "execution_count": 87,
   "metadata": {},
   "outputs": [],
   "source": [
    "default_vector = np.mean(list(glove.values()), axis = 0)\n",
    "embedding_matrix = np.empty((len(word2ind), default_vector.shape[0]))\n",
    "for word, position in word2ind.items():\n",
    "    embedding_matrix[position,:] = glove.get(word, default_vector)"
   ]
  },
  {
   "cell_type": "code",
   "execution_count": 108,
   "metadata": {},
   "outputs": [],
   "source": [
    "sequence_length = 10\n",
    "words_x = np.zeros((len(sentences), sequence_length))\n",
    "labels = np.zeros((len(sentences),))\n",
    "position = 0\n",
    "for line, entry in sentences.items():\n",
    "    for i, token in enumerate(ttws(line)):\n",
    "        if i >= sequence_length:\n",
    "            break\n",
    "        words_x[position, i] = word2ind[token]\n",
    "    labels[position] = entry['y']\n",
    "    position = position + 1"
   ]
  },
  {
   "cell_type": "code",
   "execution_count": 111,
   "metadata": {},
   "outputs": [
    {
     "data": {
      "text/plain": [
       "(5063, 10)"
      ]
     },
     "execution_count": 111,
     "metadata": {},
     "output_type": "execute_result"
    }
   ],
   "source": [
    "words_x.shape"
   ]
  },
  {
   "cell_type": "code",
   "execution_count": 112,
   "metadata": {},
   "outputs": [
    {
     "data": {
      "text/plain": [
       "6791"
      ]
     },
     "execution_count": 112,
     "metadata": {},
     "output_type": "execute_result"
    }
   ],
   "source": [
    "n_skipped"
   ]
  },
  {
   "cell_type": "code",
   "execution_count": null,
   "metadata": {},
   "outputs": [],
   "source": []
  }
 ],
 "metadata": {
  "kernelspec": {
   "display_name": "Python 3",
   "language": "python",
   "name": "python3"
  },
  "language_info": {
   "codemirror_mode": {
    "name": "ipython",
    "version": 3
   },
   "file_extension": ".py",
   "mimetype": "text/x-python",
   "name": "python",
   "nbconvert_exporter": "python",
   "pygments_lexer": "ipython3",
   "version": "3.7.3"
  }
 },
 "nbformat": 4,
 "nbformat_minor": 2
}
